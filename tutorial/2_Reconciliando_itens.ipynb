{
 "cells": [
  {
   "cell_type": "markdown",
   "id": "942b9aa0-9ad6-4fa2-b207-b61c5899e571",
   "metadata": {},
   "source": [
    "# Reconciliando e adicionando as pesquisadoras à Wikidata\n",
    "\n",
    "Reconciliação foi feita através do Google Sheets, usando o add-on \"[Wikipedia and Wikidata Tools](https://workspace.google.com/marketplace/app/wikipedia_and_wikidata_tools/595109124715?pann=cwsdp&hl=en)\"\n",
    "\n",
    "Nome completo foi utilizado como input para a função \"=WIKIDATASEARCH()\" no Sheets, que nos forneceu uma coluna com os identificadores Wikidata para as pesquisadoras (researcherID). \n",
    "\n",
    "No caso de uma pesquisadora não já possuir um item na Wikidata, este foi criado manualmente pela [interface web](https://www.wikidata.org/wiki/Special:NewItem), porém outra opção ainda melhor é tentar adicioná-las através do [Author Disambiguator](https://author-disambiguator.toolforge.org/).\n",
    "\n",
    "Além disso, criamos um item referente ao programa, [Q110097471](https://www.wikidata.org/wiki/Q110097471), que será utilizado na declaração 'Afiliação' ([P1416](https://www.wikidata.org/wiki/Property:P1416)) da pesquisadora."
   ]
  },
  {
   "cell_type": "code",
   "execution_count": null,
   "id": "93c6fb35-fda4-4087-afcc-25d6d8ddb2ec",
   "metadata": {},
   "outputs": [],
   "source": [
    "from time import gmtime, strftime\n",
    "import pandas as pd\n",
    "\n",
    "profs = pd.read_csv(\"docentes_reconciliados.csv\")\n",
    "\n",
    "# Extraindo apenas o 'identificador' do Lattes, a parte adicionada à Wikidata\n",
    "profs[\"lattes_id\"] = profs[\"lattes\"].str.replace(\n",
    "    \"http://lattes.cnpq.br/\", \"\", regex=True\n",
    "    )"
   ]
  },
  {
   "cell_type": "markdown",
   "id": "5142dbb4-0ba9-4597-8899-2e22a09a8119",
   "metadata": {},
   "source": [
    "Após ler os dados, podemos criar [QuickStatements](https://quickstatements.toolforge.org/), um formato e uma ferramenta para realizar edições em lote na Wikidata. Para isto, iremos iterar sobre cada linha da planilha e criar declarações para cada pesquisadora:\n",
    "- Um atribuindo uma descrição básica (Den = 'researcher')\n",
    "- Um atribuindo sua ocupação como Researcher ([Q1650915](https://www.wikidata.org/wiki/Q1650915))\n",
    "- Um atribuindo sua afiliação ([P1416](https://www.wikidata.org/wiki/Property:P1416)), ao programa de pós-graduação UTFPR/UFPR-CP ([Q110097471](https://www.wikidata.org/wiki/Q110097471)), com uma referência (S854) ao site que raspamos e a data (S813) em que foi adquirida a informação.\n",
    "- E, por fim, um atribuindo o número do identificador Lattes ([P1007](https://www.wikidata.org/wiki/Property:P1007)) à pesquisadora\n",
    "\n",
    "Esse nível de informação já é adequado para um item inicial, com informações mais específicas podendo ser adicionadas ao item posteriormente."
   ]
  },
  {
   "cell_type": "code",
   "execution_count": null,
   "id": "2d68bd24-74ff-454b-a704-286523a0a53c",
   "metadata": {},
   "outputs": [],
   "source": [
    "today_date = strftime(\"+%Y-%m-%dT00:00:00Z/11\", gmtime())\n",
    "ref_url = \"http://www.utfpr.edu.br/cursos/coordenacoes/stricto-sensu/ppgab/area-academica/docentes\"\n",
    "grad_program = \"Q110097471\"\n",
    "\n",
    "affiliation_ref = f'S854|\"{ref_url}\"|S813|{today_date}'\n",
    "\n",
    "with open(\"profs_QS.qs\", \"w\") as qs:\n",
    "    for _, row in profs.iterrows():\n",
    "        \n",
    "        d_en = f\"{row['researcherID']}|Den|\\\"researcher\\\"\\n\"\n",
    "        occupation = f\"{row['researcherID']}|P106|Q1650915\\n\"\n",
    "\n",
    "        affiliation = f\"{row['researcherID']}|P1416|{grad_program}|P2868|Q121594|\"\n",
    "        lattes = f\"{row['researcherID']}|P1007|\\\"{row['lattes_id']}\\\"|\"\n",
    "        lattes_ref = f\"S854|\\\"{row['lattes']}\\\"\"\n",
    "\n",
    "        generals = f\"{d_en}{occupation}\"\n",
    "        affiliation_statement = f\"{affiliation}{affiliation_ref}\\n\"\n",
    "        lattes_statement = f\"{lattes}{lattes_ref}\\n\"\n",
    "\n",
    "        qs.write(\n",
    "            f\"{generals}{affiliation_statement}{lattes_statement}\\n\"\n",
    "        )\n"
   ]
  }
 ],
 "metadata": {
  "kernelspec": {
   "display_name": "Python 3 (ipykernel)",
   "language": "python",
   "name": "python3"
  },
  "language_info": {
   "codemirror_mode": {
    "name": "ipython",
    "version": 3
   },
   "file_extension": ".py",
   "mimetype": "text/x-python",
   "name": "python",
   "nbconvert_exporter": "python",
   "pygments_lexer": "ipython3",
   "version": "3.10.2"
  }
 },
 "nbformat": 4,
 "nbformat_minor": 5
}
