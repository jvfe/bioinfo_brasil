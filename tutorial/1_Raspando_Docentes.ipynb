{
 "cells": [
  {
   "cell_type": "markdown",
   "id": "2cc5a5c2-c151-4a3e-8d64-77a17dc34432",
   "metadata": {},
   "source": [
    "# Como adicionar docentes do seu programa na Wikidata\n",
    "\n",
    "Olá!\n",
    "Esse notebook documenta o processo utilizado no repositório Bioinfo Brasil para adicionar docentes de um programa de pós-graduação à Wikidata.\n",
    "O passo a passo utiliza como exemplo o [programa de pós-graduação associado UTFPR/UFPR-CP](http://www.utfpr.edu.br/cursos/coordenacoes/stricto-sensu/ppgab/area-academica/docentes) mas, com pouco esforço, pode ser adaptado para outros programas.\n",
    "\n",
    "O procedimento utiliza pacotes de [*web-scraping*](https://pt.wikipedia.org/wiki/Coleta_de_dados_web) e o [Google Planilhas](https://www.google.com/intl/pt-BR/sheets/about/), então recomenda-se ter alguma familiaridade com essas ferramentas.\n",
    "\n",
    "Pacotes utilizados:\n",
    "- [Requests](https://docs.python-requests.org/en/latest/)\n",
    "- [Pandas](https://pandas.pydata.org/)\n",
    "- [BeautifulSoup4](https://beautiful-soup-4.readthedocs.io/en/latest/)\n",
    "- [lxml](https://pypi.org/project/lxml/)\n"
   ]
  },
  {
   "cell_type": "code",
   "execution_count": null,
   "id": "238dc8c1-e054-465b-9b11-f27fd564b2c9",
   "metadata": {},
   "outputs": [],
   "source": [
    "import re\n",
    "import csv\n",
    "import requests\n",
    "import lxml.html\n",
    "\n",
    "from bs4 import BeautifulSoup"
   ]
  },
  {
   "cell_type": "markdown",
   "id": "1c9b866d-d475-4c36-a2ef-dad47a5ce381",
   "metadata": {},
   "source": [
    "Primeiro, vamos adquirir o conteudo da página"
   ]
  },
  {
   "cell_type": "code",
   "execution_count": null,
   "id": "4a5e6ac6-5597-4a87-af2a-7c9994722dc5",
   "metadata": {},
   "outputs": [],
   "source": [
    "url = \"http://www.utfpr.edu.br/cursos/coordenacoes/stricto-sensu/ppgab/area-academica/docentes\"\n",
    "\n",
    "page = requests.get(url)"
   ]
  },
  {
   "cell_type": "markdown",
   "id": "49704d5f-a723-4f3c-a33f-c8bef5c2ea97",
   "metadata": {},
   "source": [
    "Em seguida, podemos parsear o conteúdo HTML da página. Essa parte requer um conhecimento precedente de *web scraping* para compreender de fato o que está acontecendo, mas em linhas gerais pode se dizer o seguinte:\n",
    "\n",
    "- Utilizamos uma [Xpath](https://pt.wikipedia.org/wiki/XPath) para raspar todos os elementos na seção 'Docentes Permanentes' da página.\n",
    "- Vendo que cada docente é representado por um elemento `<p>`, selecionamos todos os elementos p."
   ]
  },
  {
   "cell_type": "code",
   "execution_count": null,
   "id": "3e36a32f-4068-4552-b228-98cb0b13b696",
   "metadata": {},
   "outputs": [],
   "source": [
    "tree = lxml.html.fromstring(page.content)\n",
    "\n",
    "elements = \"\".join([\n",
    "    lxml.html.tostring(el, method=\"html\", encoding=\"unicode\") for el \n",
    "    in tree.xpath('//div[@id=\"parent-fieldname-text\"]/h2[last()]/preceding-sibling::*')\n",
    "    ])\n",
    "\n",
    "docentes = BeautifulSoup(elements, 'html.parser').find_all('p')"
   ]
  },
  {
   "cell_type": "markdown",
   "id": "9d596086-9711-4ce3-a087-197d40f896ea",
   "metadata": {},
   "source": [
    "Em seguida, podemos escrever o conteúdo da raspagem em uma planilha CSV:\n",
    "- O nome da professora, que adquirimos retirando o conteúdo adiante dos parênteses (que seguem o nome de cada uma, representando a instituição).\n",
    "- O link para o currículo Lattes, que é representado pelos elementos `<a>`."
   ]
  },
  {
   "cell_type": "code",
   "execution_count": null,
   "id": "b5574f6e-a00a-4c85-9221-92445668bdab",
   "metadata": {},
   "outputs": [],
   "source": [
    "with open(\"docentes.csv\", \"w\") as csvfile:\n",
    "    docente_writer = csv.writer(csvfile, dialect=\"unix\")\n",
    "    docente_writer.writerow([\"docente\", \"lattes\"])\n",
    "    for row in docentes:\n",
    "        if len(row.text.strip()) != 0:\n",
    "            prof = re.sub(r\"\\(.*\\)*\", \"\", row.text).strip()\n",
    "            lattes = row.find(\"a\")[\"href\"]\n",
    "            docente_writer.writerow([prof, lattes])\n"
   ]
  }
 ],
 "metadata": {
  "kernelspec": {
   "display_name": "Python 3 (ipykernel)",
   "language": "python",
   "name": "python3"
  },
  "language_info": {
   "codemirror_mode": {
    "name": "ipython",
    "version": 3
   },
   "file_extension": ".py",
   "mimetype": "text/x-python",
   "name": "python",
   "nbconvert_exporter": "python",
   "pygments_lexer": "ipython3",
   "version": "3.10.2"
  }
 },
 "nbformat": 4,
 "nbformat_minor": 5
}
